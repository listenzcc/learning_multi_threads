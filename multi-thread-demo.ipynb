{
 "cells": [
  {
   "cell_type": "code",
   "execution_count": 1,
   "metadata": {},
   "outputs": [],
   "source": [
    "import time\n",
    "from threading import Thread"
   ]
  },
  {
   "cell_type": "code",
   "execution_count": 5,
   "metadata": {},
   "outputs": [],
   "source": [
    "def set_value(trg, idx, name=''):\n",
    "    # Set value in a list-like object.\n",
    "    # trg: list-like object\n",
    "    # idx: position to add value\n",
    "    # [value] is not in inputs\n",
    "    # name: name of the function\n",
    "    \n",
    "    # Simulate some time-costing work\n",
    "    time.sleep(idx)\n",
    "    \n",
    "    # Set trg[idx] as time.time()\n",
    "    # The operation should be inplace\n",
    "    trg[idx] = '{:3.0f}'.format(time.time())\n",
    "    \n",
    "    # Report updated trg\n",
    "    print(name, trg, idx)"
   ]
  },
  {
   "cell_type": "code",
   "execution_count": 8,
   "metadata": {},
   "outputs": [
    {
     "name": "stdout",
     "output_type": "stream",
     "text": [
      "3 [0, 0, 0, '1578712445', 0, 0, 0, 0, 0, 0] 3\n",
      "5 [0, 0, 0, '1578712445', 0, '1578712447', 0, 0, 0, 0] 5\n",
      "7 [0, 0, 0, '1578712445', 0, '1578712447', 0, '1578712449', 0, 0] 7\n",
      "Done.\n",
      "[0, 0, 0, '1578712445', 0, '1578712447', 0, '1578712449', 0, 0]\n"
     ]
    }
   ],
   "source": [
    "# Init an empty list\n",
    "empty_list = [0 for _ in range(10)]\n",
    "\n",
    "# Init a list of threads\n",
    "threads = []\n",
    "\n",
    "# Init threads\n",
    "for j in [3, 5, 7]:\n",
    "    threads.append(Thread(target=set_value,\n",
    "                          args=(empty_list, j),\n",
    "                          kwargs=dict(name=j)\n",
    "                         ))\n",
    "\n",
    "# Start threads\n",
    "for thr in threads:\n",
    "    thr.start()\n",
    "\n",
    "# Join threads into threads-pool\n",
    "# No-empty threads-pool will pervent other threads from operating\n",
    "for thr in threads:\n",
    "    thr.join()\n",
    "    \n",
    "print('Done.')\n",
    "print(empty_list)"
   ]
  },
  {
   "cell_type": "code",
   "execution_count": 9,
   "metadata": {},
   "outputs": [
    {
     "name": "stdout",
     "output_type": "stream",
     "text": [
      "3 [0, 0, 0, '1578712463', 0, 0, 0, 0, 0, 0] 3\n",
      "5 [0, 0, 0, '1578712463', 0, '1578712468', 0, 0, 0, 0] 5\n",
      "7 [0, 0, 0, '1578712463', 0, '1578712468', 0, '1578712475', 0, 0] 7\n",
      "Done.\n",
      "[0, 0, 0, '1578712463', 0, '1578712468', 0, '1578712475', 0, 0]\n"
     ]
    }
   ],
   "source": [
    "# Same as last session\n",
    "empty_list = [0 for _ in range(10)]\n",
    "threads = []\n",
    "for j in [3, 5, 7]:\n",
    "    threads.append(Thread(target=set_value,\n",
    "                          args=(empty_list, j),\n",
    "                          kwargs=dict(name=j)\n",
    "                         ))\n",
    "\n",
    "# !!! Bad example of start threads\n",
    "# Because it join a thread immediately after start,\n",
    "# it pervent next thread from operating,\n",
    "# as a result, threads will not parall-operated.\n",
    "for thr in threads:\n",
    "    thr.start()\n",
    "    thr.join()\n",
    "    \n",
    "print('Done.')\n",
    "print(empty_list)"
   ]
  },
  {
   "cell_type": "code",
   "execution_count": null,
   "metadata": {},
   "outputs": [],
   "source": []
  },
  {
   "cell_type": "code",
   "execution_count": null,
   "metadata": {},
   "outputs": [],
   "source": []
  }
 ],
 "metadata": {
  "kernelspec": {
   "display_name": "Python 3",
   "language": "python",
   "name": "python3"
  },
  "language_info": {
   "codemirror_mode": {
    "name": "ipython",
    "version": 3
   },
   "file_extension": ".py",
   "mimetype": "text/x-python",
   "name": "python",
   "nbconvert_exporter": "python",
   "pygments_lexer": "ipython3",
   "version": "3.7.4"
  }
 },
 "nbformat": 4,
 "nbformat_minor": 4
}
